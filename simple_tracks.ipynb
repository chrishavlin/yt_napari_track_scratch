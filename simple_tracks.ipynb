{
 "cells": [
  {
   "cell_type": "code",
   "execution_count": 1,
   "id": "f6cf69d6-6bf7-42d9-95c4-02750615333d",
   "metadata": {},
   "outputs": [],
   "source": [
    "import napari \n"
   ]
  },
  {
   "cell_type": "code",
   "execution_count": 2,
   "id": "a4e8052b-a97a-446c-af2f-dbb9be696b58",
   "metadata": {},
   "outputs": [
    {
     "name": "stdout",
     "output_type": "stream",
     "text": [
      "Assistant skips harvesting pyclesperanto as it's not installed.\n"
     ]
    }
   ],
   "source": [
    "v = napari.Viewer()"
   ]
  },
  {
   "cell_type": "code",
   "execution_count": 5,
   "id": "244b8a71-b2f7-4899-adfd-538d010f9ae4",
   "metadata": {},
   "outputs": [
    {
     "data": {
      "text/plain": [
       "<Tracks layer 'Tracks' at 0x7ff3b478e8e0>"
      ]
     },
     "execution_count": 5,
     "metadata": {},
     "output_type": "execute_result"
    }
   ],
   "source": [
    "# single particle split\n",
    "\n",
    "# (id, time, (z), y, x)\n",
    "tracks = [\n",
    "    [0, 0, 50, 50],\n",
    "    [0, 1, 55, 50], \n",
    "    [0, 2, 58, 50], \n",
    "    [1, 3, 59, 51], \n",
    "    [2, 3, 57, 51], \n",
    "    [1, 4, 60, 55], \n",
    "    [2, 4, 56, 55]\n",
    "]\n",
    "\n",
    "graph = {1: [0], 2:[0]}\n",
    "\n",
    "v.add_tracks(tracks, graph=graph)"
   ]
  },
  {
   "cell_type": "code",
   "execution_count": 6,
   "id": "2288fdb2-c586-4c25-9402-5e53c87bd486",
   "metadata": {},
   "outputs": [
    {
     "data": {
      "text/plain": [
       "\u001b[0;31mSignature:\u001b[0m\n",
       "\u001b[0mv\u001b[0m\u001b[0;34m.\u001b[0m\u001b[0madd_tracks\u001b[0m\u001b[0;34m(\u001b[0m\u001b[0;34m\u001b[0m\n",
       "\u001b[0;34m\u001b[0m    \u001b[0mdata\u001b[0m\u001b[0;34m,\u001b[0m\u001b[0;34m\u001b[0m\n",
       "\u001b[0;34m\u001b[0m    \u001b[0;34m*\u001b[0m\u001b[0;34m,\u001b[0m\u001b[0;34m\u001b[0m\n",
       "\u001b[0;34m\u001b[0m    \u001b[0mfeatures\u001b[0m\u001b[0;34m=\u001b[0m\u001b[0;32mNone\u001b[0m\u001b[0;34m,\u001b[0m\u001b[0;34m\u001b[0m\n",
       "\u001b[0;34m\u001b[0m    \u001b[0mproperties\u001b[0m\u001b[0;34m=\u001b[0m\u001b[0;32mNone\u001b[0m\u001b[0;34m,\u001b[0m\u001b[0;34m\u001b[0m\n",
       "\u001b[0;34m\u001b[0m    \u001b[0mgraph\u001b[0m\u001b[0;34m=\u001b[0m\u001b[0;32mNone\u001b[0m\u001b[0;34m,\u001b[0m\u001b[0;34m\u001b[0m\n",
       "\u001b[0;34m\u001b[0m    \u001b[0mtail_width\u001b[0m\u001b[0;34m=\u001b[0m\u001b[0;36m2\u001b[0m\u001b[0;34m,\u001b[0m\u001b[0;34m\u001b[0m\n",
       "\u001b[0;34m\u001b[0m    \u001b[0mtail_length\u001b[0m\u001b[0;34m=\u001b[0m\u001b[0;36m30\u001b[0m\u001b[0;34m,\u001b[0m\u001b[0;34m\u001b[0m\n",
       "\u001b[0;34m\u001b[0m    \u001b[0mhead_length\u001b[0m\u001b[0;34m=\u001b[0m\u001b[0;36m0\u001b[0m\u001b[0;34m,\u001b[0m\u001b[0;34m\u001b[0m\n",
       "\u001b[0;34m\u001b[0m    \u001b[0mname\u001b[0m\u001b[0;34m=\u001b[0m\u001b[0;32mNone\u001b[0m\u001b[0;34m,\u001b[0m\u001b[0;34m\u001b[0m\n",
       "\u001b[0;34m\u001b[0m    \u001b[0mmetadata\u001b[0m\u001b[0;34m=\u001b[0m\u001b[0;32mNone\u001b[0m\u001b[0;34m,\u001b[0m\u001b[0;34m\u001b[0m\n",
       "\u001b[0;34m\u001b[0m    \u001b[0mscale\u001b[0m\u001b[0;34m=\u001b[0m\u001b[0;32mNone\u001b[0m\u001b[0;34m,\u001b[0m\u001b[0;34m\u001b[0m\n",
       "\u001b[0;34m\u001b[0m    \u001b[0mtranslate\u001b[0m\u001b[0;34m=\u001b[0m\u001b[0;32mNone\u001b[0m\u001b[0;34m,\u001b[0m\u001b[0;34m\u001b[0m\n",
       "\u001b[0;34m\u001b[0m    \u001b[0mrotate\u001b[0m\u001b[0;34m=\u001b[0m\u001b[0;32mNone\u001b[0m\u001b[0;34m,\u001b[0m\u001b[0;34m\u001b[0m\n",
       "\u001b[0;34m\u001b[0m    \u001b[0mshear\u001b[0m\u001b[0;34m=\u001b[0m\u001b[0;32mNone\u001b[0m\u001b[0;34m,\u001b[0m\u001b[0;34m\u001b[0m\n",
       "\u001b[0;34m\u001b[0m    \u001b[0maffine\u001b[0m\u001b[0;34m=\u001b[0m\u001b[0;32mNone\u001b[0m\u001b[0;34m,\u001b[0m\u001b[0;34m\u001b[0m\n",
       "\u001b[0;34m\u001b[0m    \u001b[0mopacity\u001b[0m\u001b[0;34m=\u001b[0m\u001b[0;36m1\u001b[0m\u001b[0;34m,\u001b[0m\u001b[0;34m\u001b[0m\n",
       "\u001b[0;34m\u001b[0m    \u001b[0mblending\u001b[0m\u001b[0;34m=\u001b[0m\u001b[0;34m'additive'\u001b[0m\u001b[0;34m,\u001b[0m\u001b[0;34m\u001b[0m\n",
       "\u001b[0;34m\u001b[0m    \u001b[0mvisible\u001b[0m\u001b[0;34m=\u001b[0m\u001b[0;32mTrue\u001b[0m\u001b[0;34m,\u001b[0m\u001b[0;34m\u001b[0m\n",
       "\u001b[0;34m\u001b[0m    \u001b[0mcolormap\u001b[0m\u001b[0;34m=\u001b[0m\u001b[0;34m'turbo'\u001b[0m\u001b[0;34m,\u001b[0m\u001b[0;34m\u001b[0m\n",
       "\u001b[0;34m\u001b[0m    \u001b[0mcolor_by\u001b[0m\u001b[0;34m=\u001b[0m\u001b[0;34m'track_id'\u001b[0m\u001b[0;34m,\u001b[0m\u001b[0;34m\u001b[0m\n",
       "\u001b[0;34m\u001b[0m    \u001b[0mcolormaps_dict\u001b[0m\u001b[0;34m=\u001b[0m\u001b[0;32mNone\u001b[0m\u001b[0;34m,\u001b[0m\u001b[0;34m\u001b[0m\n",
       "\u001b[0;34m\u001b[0m    \u001b[0mcache\u001b[0m\u001b[0;34m=\u001b[0m\u001b[0;32mTrue\u001b[0m\u001b[0;34m,\u001b[0m\u001b[0;34m\u001b[0m\n",
       "\u001b[0;34m\u001b[0m    \u001b[0mexperimental_clipping_planes\u001b[0m\u001b[0;34m=\u001b[0m\u001b[0;32mNone\u001b[0m\u001b[0;34m,\u001b[0m\u001b[0;34m\u001b[0m\n",
       "\u001b[0;34m\u001b[0m\u001b[0;34m)\u001b[0m \u001b[0;34m->\u001b[0m \u001b[0mnapari\u001b[0m\u001b[0;34m.\u001b[0m\u001b[0mlayers\u001b[0m\u001b[0;34m.\u001b[0m\u001b[0mtracks\u001b[0m\u001b[0;34m.\u001b[0m\u001b[0mtracks\u001b[0m\u001b[0;34m.\u001b[0m\u001b[0mTracks\u001b[0m\u001b[0;34m\u001b[0m\u001b[0;34m\u001b[0m\u001b[0m\n",
       "\u001b[0;31mDocstring:\u001b[0m\n",
       "Add a Tracks layer to the layer list. \n",
       "\n",
       "Parameters\n",
       "----------\n",
       "data : array (N, D+1)\n",
       "    Coordinates for N points in D+1 dimensions. ID,T,(Z),Y,X. The first\n",
       "    axis is the integer ID of the track. D is either 3 or 4 for planar\n",
       "    or volumetric timeseries respectively.\n",
       "features : Dataframe-like\n",
       "    Features table where each row corresponds to a point and each column\n",
       "    is a feature.\n",
       "properties : dict {str: array (N,)}, DataFrame\n",
       "    Properties for each point. Each property should be an array of length N,\n",
       "    where N is the number of points.\n",
       "graph : dict {int: list}\n",
       "    Graph representing associations between tracks. Dictionary defines the\n",
       "    mapping between a track ID and the parents of the track. This can be\n",
       "    one (the track has one parent, and the parent has >=1 child) in the\n",
       "    case of track splitting, or more than one (the track has multiple\n",
       "    parents, but only one child) in the case of track merging.\n",
       "    See examples/tracks_3d_with_graph.py\n",
       "color_by : str\n",
       "    Track property (from property keys) by which to color vertices.\n",
       "tail_width : float\n",
       "    Width of the track tails in pixels.\n",
       "tail_length : float\n",
       "    Length of the positive (backward in time) tails in units of time.\n",
       "head_length : float\n",
       "    Length of the positive (forward in time) tails in units of time.\n",
       "colormap : str\n",
       "    Default colormap to use to set vertex colors. Specialized colormaps,\n",
       "    relating to specified properties can be passed to the layer via\n",
       "    colormaps_dict.\n",
       "colormaps_dict : dict {str: napari.utils.Colormap}\n",
       "    Optional dictionary mapping each property to a colormap for that\n",
       "    property. This allows each property to be assigned a specific colormap,\n",
       "    rather than having a global colormap for everything.\n",
       "name : str\n",
       "    Name of the layer.\n",
       "metadata : dict\n",
       "    Layer metadata.\n",
       "scale : tuple of float\n",
       "    Scale factors for the layer.\n",
       "translate : tuple of float\n",
       "    Translation values for the layer.\n",
       "rotate : float, 3-tuple of float, or n-D array.\n",
       "    If a float convert into a 2D rotation matrix using that value as an\n",
       "    angle. If 3-tuple convert into a 3D rotation matrix, using a yaw,\n",
       "    pitch, roll convention. Otherwise assume an nD rotation. Angles are\n",
       "    assumed to be in degrees. They can be converted from radians with\n",
       "    np.degrees if needed.\n",
       "shear : 1-D array or n-D array\n",
       "    Either a vector of upper triangular values, or an nD shear matrix with\n",
       "    ones along the main diagonal.\n",
       "affine : n-D array or napari.utils.transforms.Affine\n",
       "    (N+1, N+1) affine transformation matrix in homogeneous coordinates.\n",
       "    The first (N, N) entries correspond to a linear transform and\n",
       "    the final column is a length N translation vector and a 1 or a napari\n",
       "    `Affine` transform object. Applied as an extra transform on top of the\n",
       "    provided scale, rotate, and shear values.\n",
       "opacity : float\n",
       "    Opacity of the layer visual, between 0.0 and 1.0.\n",
       "blending : str\n",
       "    One of a list of preset blending modes that determines how RGB and\n",
       "    alpha values of the layer visual get mixed. Allowed values are\n",
       "    {'opaque', 'translucent', and 'additive'}.\n",
       "visible : bool\n",
       "    Whether the layer visual is currently being displayed.\n",
       "cache : bool\n",
       "    Whether slices of out-of-core datasets should be cached upon retrieval.\n",
       "    Currently, this only applies to dask arrays.\n",
       "\n",
       "Returns\n",
       "-------\n",
       "layer : :class:`napari.layers.Tracks`\n",
       "    The newly-created tracks layer.\n",
       "\u001b[0;31mFile:\u001b[0m      ~/.pyenv/versions/3.9.16/envs/ytnapari/lib/python3.9/site-packages/napari/components/viewer_model.py\n",
       "\u001b[0;31mType:\u001b[0m      method"
      ]
     },
     "metadata": {},
     "output_type": "display_data"
    }
   ],
   "source": [
    "v.add_tracks?"
   ]
  },
  {
   "cell_type": "code",
   "execution_count": null,
   "id": "24c9ded1-1044-4cdc-ab2f-2ee36276d86b",
   "metadata": {},
   "outputs": [],
   "source": []
  },
  {
   "cell_type": "code",
   "execution_count": 4,
   "id": "3af52441-2e9b-4514-9449-cf67765e8f0d",
   "metadata": {},
   "outputs": [
    {
     "data": {
      "text/plain": [
       "<Tracks layer 'Tracks' at 0x7f76d7d44970>"
      ]
     },
     "execution_count": 4,
     "metadata": {},
     "output_type": "execute_result"
    }
   ],
   "source": [
    "# split and merge \n",
    "# each track entry:\n",
    "\n",
    "tracks = [\n",
    "    [0, 1, 50.5, 7.4],\n",
    "    [0, 2, 50.3, 59.3],\n",
    "    [1, 3, 73.2, 100.6],\n",
    "    [1, 4, 75.2, 150.3],\n",
    "    [2, 3, 13.1, 110.4],\n",
    "    [2, 4, 14.8, 150.7],\n",
    "    [3, 5, 54.4, 200.5],\n",
    "    [3, 6, 52.1, 250.4],\n",
    "    [4, 5, 50.5, 7.4],\n",
    "    [4, 6, 50.3, 59.3],\n",
    "    [5, 5, 73.2, 100.6],\n",
    "    [5, 6, 75.2, 150.3],\n",
    "    [6, 5, 13.1, 110.4],\n",
    "    [6, 6, 14.8, 150.7],\n",
    "    [7, 7, 54.4, 200.5],\n",
    "    [7, 8, 52.1, 250.4],\n",
    "    [8, 7, 54.4, 200.5],\n",
    "    [8, 8, 52.1, 250.4],\n",
    "]\n",
    "\n",
    "# graph argument: the key is the child, the value(s) is(are) the parent(s).\n",
    "graph = {2: [0], 1: [0], 3: [1], 4: [1], 5: [2], 6: [2], 7: [4, 6], 8: [3, 5]}\n",
    "\n",
    "v.layers.clear()\n",
    "v.add_tracks(tracks, graph=graph)"
   ]
  },
  {
   "cell_type": "code",
   "execution_count": null,
   "id": "2ac9f7f7-4600-4423-bd3c-e8d1d1fb8950",
   "metadata": {},
   "outputs": [],
   "source": []
  }
 ],
 "metadata": {
  "kernelspec": {
   "display_name": "Python 3 (ipykernel)",
   "language": "python",
   "name": "python3"
  },
  "language_info": {
   "codemirror_mode": {
    "name": "ipython",
    "version": 3
   },
   "file_extension": ".py",
   "mimetype": "text/x-python",
   "name": "python",
   "nbconvert_exporter": "python",
   "pygments_lexer": "ipython3",
   "version": "3.9.16"
  }
 },
 "nbformat": 4,
 "nbformat_minor": 5
}
