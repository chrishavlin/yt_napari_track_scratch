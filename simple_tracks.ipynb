{
 "cells": [
  {
   "cell_type": "code",
   "execution_count": 1,
   "id": "f6cf69d6-6bf7-42d9-95c4-02750615333d",
   "metadata": {},
   "outputs": [],
   "source": [
    "import napari \n"
   ]
  },
  {
   "cell_type": "code",
   "execution_count": 3,
   "id": "a4e8052b-a97a-446c-af2f-dbb9be696b58",
   "metadata": {},
   "outputs": [
    {
     "name": "stdout",
     "output_type": "stream",
     "text": [
      "Assistant skips harvesting pyclesperanto as it's not installed.\n"
     ]
    }
   ],
   "source": [
    "v = napari.Viewer()"
   ]
  },
  {
   "cell_type": "code",
   "execution_count": 5,
   "id": "244b8a71-b2f7-4899-adfd-538d010f9ae4",
   "metadata": {},
   "outputs": [
    {
     "data": {
      "text/plain": [
       "<Tracks layer 'Tracks [1]' at 0x7f76d4943370>"
      ]
     },
     "execution_count": 5,
     "metadata": {},
     "output_type": "execute_result"
    }
   ],
   "source": [
    "# single particle split\n",
    "\n",
    "# (id, time, (z), y, x)\n",
    "tracks = [\n",
    "    [0, 0, 50, 50],\n",
    "    [0, 1, 55, 50], \n",
    "    [0, 2, 58, 50], \n",
    "    [1, 3, 59, 51], \n",
    "    [2, 3, 57, 51], \n",
    "    [1, 4, 60, 55], \n",
    "    [2, 4, 56, 55]\n",
    "]\n",
    "\n",
    "graph = {1: [0], 2:[0]}\n",
    "\n",
    "v.add_tracks(tracks, graph=graph)"
   ]
  },
  {
   "cell_type": "code",
   "execution_count": 4,
   "id": "3af52441-2e9b-4514-9449-cf67765e8f0d",
   "metadata": {},
   "outputs": [
    {
     "data": {
      "text/plain": [
       "<Tracks layer 'Tracks' at 0x7f76d7d44970>"
      ]
     },
     "execution_count": 4,
     "metadata": {},
     "output_type": "execute_result"
    }
   ],
   "source": [
    "# split and merge \n",
    "# each track entry:\n",
    "\n",
    "tracks = [\n",
    "    [0, 1, 50.5, 7.4],\n",
    "    [0, 2, 50.3, 59.3],\n",
    "    [1, 3, 73.2, 100.6],\n",
    "    [1, 4, 75.2, 150.3],\n",
    "    [2, 3, 13.1, 110.4],\n",
    "    [2, 4, 14.8, 150.7],\n",
    "    [3, 5, 54.4, 200.5],\n",
    "    [3, 6, 52.1, 250.4],\n",
    "    [4, 5, 50.5, 7.4],\n",
    "    [4, 6, 50.3, 59.3],\n",
    "    [5, 5, 73.2, 100.6],\n",
    "    [5, 6, 75.2, 150.3],\n",
    "    [6, 5, 13.1, 110.4],\n",
    "    [6, 6, 14.8, 150.7],\n",
    "    [7, 7, 54.4, 200.5],\n",
    "    [7, 8, 52.1, 250.4],\n",
    "    [8, 7, 54.4, 200.5],\n",
    "    [8, 8, 52.1, 250.4],\n",
    "]\n",
    "\n",
    "# graph argument: the key is the child, the value(s) is(are) the parent(s).\n",
    "graph = {2: [0], 1: [0], 3: [1], 4: [1], 5: [2], 6: [2], 7: [4, 6], 8: [3, 5]}\n",
    "\n",
    "v.layers.clear()\n",
    "v.add_tracks(tracks, graph=graph)"
   ]
  },
  {
   "cell_type": "code",
   "execution_count": null,
   "id": "2ac9f7f7-4600-4423-bd3c-e8d1d1fb8950",
   "metadata": {},
   "outputs": [],
   "source": []
  }
 ],
 "metadata": {
  "kernelspec": {
   "display_name": "Python 3 (ipykernel)",
   "language": "python",
   "name": "python3"
  },
  "language_info": {
   "codemirror_mode": {
    "name": "ipython",
    "version": 3
   },
   "file_extension": ".py",
   "mimetype": "text/x-python",
   "name": "python",
   "nbconvert_exporter": "python",
   "pygments_lexer": "ipython3",
   "version": "3.9.16"
  }
 },
 "nbformat": 4,
 "nbformat_minor": 5
}
