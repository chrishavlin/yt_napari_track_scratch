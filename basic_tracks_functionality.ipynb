{
 "cells": [
  {
   "cell_type": "markdown",
   "id": "e6caac0a-ca39-433b-8450-f9f76aaa57fb",
   "metadata": {},
   "source": [
    "using the napari tracks layers : https://napari.org/stable/howtos/layers/tracks.html \n"
   ]
  },
  {
   "cell_type": "code",
   "execution_count": 1,
   "id": "294e0e31-9e70-485f-bb86-e552d1bb5720",
   "metadata": {},
   "outputs": [],
   "source": [
    "import napari "
   ]
  },
  {
   "cell_type": "code",
   "execution_count": 2,
   "id": "ef2b8ae0-6914-41cf-9768-3fcd6e6a5530",
   "metadata": {},
   "outputs": [
    {
     "name": "stdout",
     "output_type": "stream",
     "text": [
      "Assistant skips harvesting pyclesperanto as it's not installed.\n"
     ]
    }
   ],
   "source": [
    "v = napari.Viewer()"
   ]
  },
  {
   "cell_type": "code",
   "execution_count": 3,
   "id": "8f925714-5950-416c-8fc7-b866510d6c38",
   "metadata": {},
   "outputs": [],
   "source": [
    "import numpy as np "
   ]
  },
  {
   "cell_type": "code",
   "execution_count": 4,
   "id": "1182e243-405d-4002-a9a5-b832573e47fa",
   "metadata": {},
   "outputs": [
    {
     "data": {
      "text/plain": [
       "\u001b[0;31mSignature:\u001b[0m\n",
       "\u001b[0mv\u001b[0m\u001b[0;34m.\u001b[0m\u001b[0madd_tracks\u001b[0m\u001b[0;34m(\u001b[0m\u001b[0;34m\u001b[0m\n",
       "\u001b[0;34m\u001b[0m    \u001b[0mdata\u001b[0m\u001b[0;34m,\u001b[0m\u001b[0;34m\u001b[0m\n",
       "\u001b[0;34m\u001b[0m    \u001b[0;34m*\u001b[0m\u001b[0;34m,\u001b[0m\u001b[0;34m\u001b[0m\n",
       "\u001b[0;34m\u001b[0m    \u001b[0mfeatures\u001b[0m\u001b[0;34m=\u001b[0m\u001b[0;32mNone\u001b[0m\u001b[0;34m,\u001b[0m\u001b[0;34m\u001b[0m\n",
       "\u001b[0;34m\u001b[0m    \u001b[0mproperties\u001b[0m\u001b[0;34m=\u001b[0m\u001b[0;32mNone\u001b[0m\u001b[0;34m,\u001b[0m\u001b[0;34m\u001b[0m\n",
       "\u001b[0;34m\u001b[0m    \u001b[0mgraph\u001b[0m\u001b[0;34m=\u001b[0m\u001b[0;32mNone\u001b[0m\u001b[0;34m,\u001b[0m\u001b[0;34m\u001b[0m\n",
       "\u001b[0;34m\u001b[0m    \u001b[0mtail_width\u001b[0m\u001b[0;34m=\u001b[0m\u001b[0;36m2\u001b[0m\u001b[0;34m,\u001b[0m\u001b[0;34m\u001b[0m\n",
       "\u001b[0;34m\u001b[0m    \u001b[0mtail_length\u001b[0m\u001b[0;34m=\u001b[0m\u001b[0;36m30\u001b[0m\u001b[0;34m,\u001b[0m\u001b[0;34m\u001b[0m\n",
       "\u001b[0;34m\u001b[0m    \u001b[0mhead_length\u001b[0m\u001b[0;34m=\u001b[0m\u001b[0;36m0\u001b[0m\u001b[0;34m,\u001b[0m\u001b[0;34m\u001b[0m\n",
       "\u001b[0;34m\u001b[0m    \u001b[0mname\u001b[0m\u001b[0;34m=\u001b[0m\u001b[0;32mNone\u001b[0m\u001b[0;34m,\u001b[0m\u001b[0;34m\u001b[0m\n",
       "\u001b[0;34m\u001b[0m    \u001b[0mmetadata\u001b[0m\u001b[0;34m=\u001b[0m\u001b[0;32mNone\u001b[0m\u001b[0;34m,\u001b[0m\u001b[0;34m\u001b[0m\n",
       "\u001b[0;34m\u001b[0m    \u001b[0mscale\u001b[0m\u001b[0;34m=\u001b[0m\u001b[0;32mNone\u001b[0m\u001b[0;34m,\u001b[0m\u001b[0;34m\u001b[0m\n",
       "\u001b[0;34m\u001b[0m    \u001b[0mtranslate\u001b[0m\u001b[0;34m=\u001b[0m\u001b[0;32mNone\u001b[0m\u001b[0;34m,\u001b[0m\u001b[0;34m\u001b[0m\n",
       "\u001b[0;34m\u001b[0m    \u001b[0mrotate\u001b[0m\u001b[0;34m=\u001b[0m\u001b[0;32mNone\u001b[0m\u001b[0;34m,\u001b[0m\u001b[0;34m\u001b[0m\n",
       "\u001b[0;34m\u001b[0m    \u001b[0mshear\u001b[0m\u001b[0;34m=\u001b[0m\u001b[0;32mNone\u001b[0m\u001b[0;34m,\u001b[0m\u001b[0;34m\u001b[0m\n",
       "\u001b[0;34m\u001b[0m    \u001b[0maffine\u001b[0m\u001b[0;34m=\u001b[0m\u001b[0;32mNone\u001b[0m\u001b[0;34m,\u001b[0m\u001b[0;34m\u001b[0m\n",
       "\u001b[0;34m\u001b[0m    \u001b[0mopacity\u001b[0m\u001b[0;34m=\u001b[0m\u001b[0;36m1\u001b[0m\u001b[0;34m,\u001b[0m\u001b[0;34m\u001b[0m\n",
       "\u001b[0;34m\u001b[0m    \u001b[0mblending\u001b[0m\u001b[0;34m=\u001b[0m\u001b[0;34m'additive'\u001b[0m\u001b[0;34m,\u001b[0m\u001b[0;34m\u001b[0m\n",
       "\u001b[0;34m\u001b[0m    \u001b[0mvisible\u001b[0m\u001b[0;34m=\u001b[0m\u001b[0;32mTrue\u001b[0m\u001b[0;34m,\u001b[0m\u001b[0;34m\u001b[0m\n",
       "\u001b[0;34m\u001b[0m    \u001b[0mcolormap\u001b[0m\u001b[0;34m=\u001b[0m\u001b[0;34m'turbo'\u001b[0m\u001b[0;34m,\u001b[0m\u001b[0;34m\u001b[0m\n",
       "\u001b[0;34m\u001b[0m    \u001b[0mcolor_by\u001b[0m\u001b[0;34m=\u001b[0m\u001b[0;34m'track_id'\u001b[0m\u001b[0;34m,\u001b[0m\u001b[0;34m\u001b[0m\n",
       "\u001b[0;34m\u001b[0m    \u001b[0mcolormaps_dict\u001b[0m\u001b[0;34m=\u001b[0m\u001b[0;32mNone\u001b[0m\u001b[0;34m,\u001b[0m\u001b[0;34m\u001b[0m\n",
       "\u001b[0;34m\u001b[0m    \u001b[0mcache\u001b[0m\u001b[0;34m=\u001b[0m\u001b[0;32mTrue\u001b[0m\u001b[0;34m,\u001b[0m\u001b[0;34m\u001b[0m\n",
       "\u001b[0;34m\u001b[0m    \u001b[0mexperimental_clipping_planes\u001b[0m\u001b[0;34m=\u001b[0m\u001b[0;32mNone\u001b[0m\u001b[0;34m,\u001b[0m\u001b[0;34m\u001b[0m\n",
       "\u001b[0;34m\u001b[0m\u001b[0;34m)\u001b[0m \u001b[0;34m->\u001b[0m \u001b[0mnapari\u001b[0m\u001b[0;34m.\u001b[0m\u001b[0mlayers\u001b[0m\u001b[0;34m.\u001b[0m\u001b[0mtracks\u001b[0m\u001b[0;34m.\u001b[0m\u001b[0mtracks\u001b[0m\u001b[0;34m.\u001b[0m\u001b[0mTracks\u001b[0m\u001b[0;34m\u001b[0m\u001b[0;34m\u001b[0m\u001b[0m\n",
       "\u001b[0;31mDocstring:\u001b[0m\n",
       "Add a Tracks layer to the layer list. \n",
       "\n",
       "Parameters\n",
       "----------\n",
       "data : array (N, D+1)\n",
       "    Coordinates for N points in D+1 dimensions. ID,T,(Z),Y,X. The first\n",
       "    axis is the integer ID of the track. D is either 3 or 4 for planar\n",
       "    or volumetric timeseries respectively.\n",
       "features : Dataframe-like\n",
       "    Features table where each row corresponds to a point and each column\n",
       "    is a feature.\n",
       "properties : dict {str: array (N,)}, DataFrame\n",
       "    Properties for each point. Each property should be an array of length N,\n",
       "    where N is the number of points.\n",
       "graph : dict {int: list}\n",
       "    Graph representing associations between tracks. Dictionary defines the\n",
       "    mapping between a track ID and the parents of the track. This can be\n",
       "    one (the track has one parent, and the parent has >=1 child) in the\n",
       "    case of track splitting, or more than one (the track has multiple\n",
       "    parents, but only one child) in the case of track merging.\n",
       "    See examples/tracks_3d_with_graph.py\n",
       "color_by : str\n",
       "    Track property (from property keys) by which to color vertices.\n",
       "tail_width : float\n",
       "    Width of the track tails in pixels.\n",
       "tail_length : float\n",
       "    Length of the positive (backward in time) tails in units of time.\n",
       "head_length : float\n",
       "    Length of the positive (forward in time) tails in units of time.\n",
       "colormap : str\n",
       "    Default colormap to use to set vertex colors. Specialized colormaps,\n",
       "    relating to specified properties can be passed to the layer via\n",
       "    colormaps_dict.\n",
       "colormaps_dict : dict {str: napari.utils.Colormap}\n",
       "    Optional dictionary mapping each property to a colormap for that\n",
       "    property. This allows each property to be assigned a specific colormap,\n",
       "    rather than having a global colormap for everything.\n",
       "name : str\n",
       "    Name of the layer.\n",
       "metadata : dict\n",
       "    Layer metadata.\n",
       "scale : tuple of float\n",
       "    Scale factors for the layer.\n",
       "translate : tuple of float\n",
       "    Translation values for the layer.\n",
       "rotate : float, 3-tuple of float, or n-D array.\n",
       "    If a float convert into a 2D rotation matrix using that value as an\n",
       "    angle. If 3-tuple convert into a 3D rotation matrix, using a yaw,\n",
       "    pitch, roll convention. Otherwise assume an nD rotation. Angles are\n",
       "    assumed to be in degrees. They can be converted from radians with\n",
       "    np.degrees if needed.\n",
       "shear : 1-D array or n-D array\n",
       "    Either a vector of upper triangular values, or an nD shear matrix with\n",
       "    ones along the main diagonal.\n",
       "affine : n-D array or napari.utils.transforms.Affine\n",
       "    (N+1, N+1) affine transformation matrix in homogeneous coordinates.\n",
       "    The first (N, N) entries correspond to a linear transform and\n",
       "    the final column is a length N translation vector and a 1 or a napari\n",
       "    `Affine` transform object. Applied as an extra transform on top of the\n",
       "    provided scale, rotate, and shear values.\n",
       "opacity : float\n",
       "    Opacity of the layer visual, between 0.0 and 1.0.\n",
       "blending : str\n",
       "    One of a list of preset blending modes that determines how RGB and\n",
       "    alpha values of the layer visual get mixed. Allowed values are\n",
       "    {'opaque', 'translucent', and 'additive'}.\n",
       "visible : bool\n",
       "    Whether the layer visual is currently being displayed.\n",
       "cache : bool\n",
       "    Whether slices of out-of-core datasets should be cached upon retrieval.\n",
       "    Currently, this only applies to dask arrays.\n",
       "\n",
       "Returns\n",
       "-------\n",
       "layer : :class:`napari.layers.Tracks`\n",
       "    The newly-created tracks layer.\n",
       "\u001b[0;31mFile:\u001b[0m      ~/.pyenv/versions/3.9.16/envs/ytnapari/lib/python3.9/site-packages/napari/components/viewer_model.py\n",
       "\u001b[0;31mType:\u001b[0m      method"
      ]
     },
     "metadata": {},
     "output_type": "display_data"
    }
   ],
   "source": [
    "v.add_tracks?"
   ]
  },
  {
   "cell_type": "code",
   "execution_count": 25,
   "id": "4f3af0d4-2e27-442d-877e-a58a70b8c5ac",
   "metadata": {},
   "outputs": [],
   "source": [
    "def periodic_random_walk_tracks(n_particles, n_timesteps):    \n",
    "    \n",
    "    positions = []\n",
    "\n",
    "    # initialize start positions     \n",
    "    positions.append(np.random.random((n_particles, 3)))\n",
    "    for it in range(n_timesteps):\n",
    "        d_xyz = (np.random.random((n_particles, 3)) - 0.5) * 0.1\n",
    "        new_pos = positions[-1] + d_xyz \n",
    "        # \n",
    "        exited_right = new_pos > 1.0\n",
    "        exited_left = new_pos < 0.0\n",
    "        new_pos[exited_right] = new_pos[exited_right] - 1.0\n",
    "        new_pos[exited_left] = new_pos[exited_left] + 1.0\n",
    "        positions.append(new_pos)\n",
    "\n",
    "    return positions"
   ]
  },
  {
   "cell_type": "code",
   "execution_count": 28,
   "id": "3ebd8373-c3c5-4b01-b5a2-524503ccd6ec",
   "metadata": {},
   "outputs": [
    {
     "data": {
      "text/plain": [
       "(10, 3)"
      ]
     },
     "execution_count": 28,
     "metadata": {},
     "output_type": "execute_result"
    }
   ],
   "source": [
    "tracks = periodic_random_walk_tracks(10, 4)\n",
    "tracks[0].shape"
   ]
  },
  {
   "cell_type": "code",
   "execution_count": null,
   "id": "219898dc-1818-419b-936d-ce208c17aa55",
   "metadata": {},
   "outputs": [],
   "source": []
  },
  {
   "cell_type": "code",
   "execution_count": null,
   "id": "6aac942c-c4dc-418c-a7b7-517d0b3cd3f2",
   "metadata": {},
   "outputs": [],
   "source": []
  }
 ],
 "metadata": {
  "kernelspec": {
   "display_name": "Python 3 (ipykernel)",
   "language": "python",
   "name": "python3"
  },
  "language_info": {
   "codemirror_mode": {
    "name": "ipython",
    "version": 3
   },
   "file_extension": ".py",
   "mimetype": "text/x-python",
   "name": "python",
   "nbconvert_exporter": "python",
   "pygments_lexer": "ipython3",
   "version": "3.9.16"
  }
 },
 "nbformat": 4,
 "nbformat_minor": 5
}
